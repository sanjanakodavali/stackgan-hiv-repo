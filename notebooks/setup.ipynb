{
 "cells": [
  {
   "cell_type": "markdown",
   "id": "3e07fac6",
   "metadata": {},
   "source": [
    "# Setup & Environment Check\n",
    "This notebook verifies the environment and shows a tiny EDA preview."
   ]
  },
  {
   "cell_type": "code",
   "execution_count": null,
   "id": "0a656099",
   "metadata": {},
   "outputs": [],
   "source": [
    "import sys, torch, transformers, numpy as np, pandas as pd, matplotlib\n",
    "print('Python', sys.version)\n",
    "print('Torch', torch.__version__)\n",
    "print('Transformers', transformers.__version__)"
   ]
  },
  {
   "cell_type": "markdown",
   "id": "4e79a36c",
   "metadata": {},
   "source": [
    "## Sample Plot"
   ]
  },
  {
   "cell_type": "code",
   "execution_count": null,
   "id": "acdb9b9e",
   "metadata": {},
   "outputs": [],
   "source": [
    "import matplotlib.pyplot as plt\n",
    "plt.figure()\n",
    "plt.plot([0,1,2],[0,1,0])\n",
    "plt.title('Environment OK — Sample Plot (Regenerated)')\n",
    "plt.show()"
   ]
  },
  {
   "cell_type": "markdown",
   "id": "704d7490",
   "metadata": {},
   "source": [
    "## Example PDB IDs (HIV-related)\n",
    "We will render these in future milestones."
   ]
  },
  {
   "cell_type": "code",
   "execution_count": null,
   "id": "8a82fc18",
   "metadata": {},
   "outputs": [],
   "source": [
    "pdb_ids = ['4MBS','3OE0','1GC1']\n",
    "pdb_ids"
   ]
  },
  {
   "cell_type": "markdown",
   "id": "52d0b33f",
   "metadata": {},
   "source": [
    "## Data Pair Format\n",
    "A CSV `data/pairs.csv` will contain: `id, pdb_id, caption, image_path, view`.\n",
    "For Deliverable 1 we just verify I/O and environment."
   ]
  }
 ],
 "metadata": {},
 "nbformat": 4,
 "nbformat_minor": 5
}
