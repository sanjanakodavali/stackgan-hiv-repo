{
 "cells": [
  {
   "cell_type": "markdown",
   "id": "b10f0ae7",
   "metadata": {},
   "source": [
    "# Run: `build_captions.py`\n",
    "\n",
    "This notebook executes `scripts/build_captions.py` to create `data/pairs.csv` from `data/pdb_meta.jsonl`. If the script isn't present, it writes a minimal `pairs.csv`. Then it previews the CSV and shows a tiny plot."
   ]
  },
  {
   "cell_type": "code",
   "execution_count": 2,
   "id": "b801b9e4",
   "metadata": {},
   "outputs": [
    {
     "name": "stdout",
     "output_type": "stream",
     "text": [
      "pairs exists: True size: 405 bytes\n"
     ]
    }
   ],
   "source": [
    "from pathlib import Path\n",
    "import csv, json, subprocess\n",
    "\n",
    "Path(\"data\").mkdir(parents=True, exist_ok=True)\n",
    "\n",
    "def ensure_meta():\n",
    "    meta_path = Path(\"data/pdb_meta.jsonl\")\n",
    "    if not meta_path.exists():\n",
    "        # write a small placeholder\n",
    "        rows = [\n",
    "            {\"pdb_id\":\"4MBS\",\"protein\":\"CCR5\",\"ligand\":\"maraviroc\",\"view\":\"front\",\"style\":\"surface\"},\n",
    "            {\"pdb_id\":\"3OE0\",\"protein\":\"CXCR4\",\"ligand\":\"IT1t\",\"view\":\"side\",\"style\":\"cartoon\"},\n",
    "            {\"pdb_id\":\"1GC1\",\"protein\":\"gp120:CD4\",\"ligand\":None,\"view\":\"top\",\"style\":\"surface\"},\n",
    "        ]\n",
    "        with meta_path.open(\"w\") as f:\n",
    "            for r in rows:\n",
    "                f.write(json.dumps(r)+\"\\n\")\n",
    "    return meta_path\n",
    "\n",
    "def try_run(cmd):\n",
    "    try:\n",
    "        print(\">>\", cmd)\n",
    "        subprocess.check_call(cmd, shell=True)\n",
    "        print(\"   ✓ OK\")\n",
    "        return True\n",
    "    except Exception as e:\n",
    "        print(\"   (skipping) —\", e)\n",
    "        return False\n",
    "\n",
    "meta_path = ensure_meta()\n",
    "\n",
    "ran = False\n",
    "if Path(\"scripts/build_captions.py\").exists():\n",
    "    ran = try_run(\"python scripts/build_captions.py\")\n",
    "\n",
    "pairs_path = Path(\"data/pairs.csv\")\n",
    "if not pairs_path.exists():\n",
    "    print(\"Creating placeholder:\", pairs_path)\n",
    "    # minimal CSV from meta\n",
    "    import pandas as pd, json\n",
    "    rows = [json.loads(l) for l in meta_path.read_text().splitlines() if l.strip()]\n",
    "    with pairs_path.open(\"w\", newline=\"\") as f:\n",
    "        w = csv.DictWriter(f, fieldnames=[\"id\",\"pdb_id\",\"caption\",\"image_path\",\"view\"])\n",
    "        w.writeheader()\n",
    "        for i, m in enumerate(rows):\n",
    "            cap = f\"{'Surface' if m.get('style')=='surface' else 'Cartoon'} view of {m.get('protein','complex')}\"\n",
    "            if m.get(\"ligand\"):\n",
    "                cap += f\" bound to {m['ligand']}\"\n",
    "            cap += f\" (PDB {m['pdb_id']}); {m.get('view','front')} orientation.\"\n",
    "            w.writerow({\n",
    "                \"id\": f\"{i+1:06d}\",\n",
    "                \"pdb_id\": m[\"pdb_id\"],\n",
    "                \"caption\": cap,\n",
    "                \"image_path\": f\"data/images/{m['pdb_id']}_{m.get('view','front')}_{m.get('style','surface')}.png\",\n",
    "                \"view\": m.get(\"view\",\"front\")\n",
    "            })\n",
    "\n",
    "print(\"pairs exists:\", pairs_path.exists(), \"size:\", pairs_path.stat().st_size, \"bytes\")\n"
   ]
  },
  {
   "cell_type": "code",
   "execution_count": 4,
   "id": "4c1450b6",
   "metadata": {},
   "outputs": [
    {
     "data": {
      "text/html": [
       "<div>\n",
       "<style scoped>\n",
       "    .dataframe tbody tr th:only-of-type {\n",
       "        vertical-align: middle;\n",
       "    }\n",
       "\n",
       "    .dataframe tbody tr th {\n",
       "        vertical-align: top;\n",
       "    }\n",
       "\n",
       "    .dataframe thead th {\n",
       "        text-align: right;\n",
       "    }\n",
       "</style>\n",
       "<table border=\"1\" class=\"dataframe\">\n",
       "  <thead>\n",
       "    <tr style=\"text-align: right;\">\n",
       "      <th></th>\n",
       "      <th>id</th>\n",
       "      <th>pdb_id</th>\n",
       "      <th>caption</th>\n",
       "      <th>image_path</th>\n",
       "      <th>view</th>\n",
       "    </tr>\n",
       "  </thead>\n",
       "  <tbody>\n",
       "    <tr>\n",
       "      <th>0</th>\n",
       "      <td>1</td>\n",
       "      <td>4MBS</td>\n",
       "      <td>Surface view of CCR5 bound to maraviroc (PDB 4...</td>\n",
       "      <td>data/images/4MBS_front_surface.png</td>\n",
       "      <td>front</td>\n",
       "    </tr>\n",
       "    <tr>\n",
       "      <th>1</th>\n",
       "      <td>2</td>\n",
       "      <td>3OE0</td>\n",
       "      <td>Cartoon view of CXCR4 with antagonist IT1t (PD...</td>\n",
       "      <td>data/images/3OE0_side_cartoon.png</td>\n",
       "      <td>side</td>\n",
       "    </tr>\n",
       "    <tr>\n",
       "      <th>2</th>\n",
       "      <td>3</td>\n",
       "      <td>1GC1</td>\n",
       "      <td>Surface view of HIV-1 gp120 bound to CD4 (PDB ...</td>\n",
       "      <td>data/images/1GC1_top_surface.png</td>\n",
       "      <td>top</td>\n",
       "    </tr>\n",
       "  </tbody>\n",
       "</table>\n",
       "</div>"
      ],
      "text/plain": [
       "   id pdb_id                                            caption  \\\n",
       "0   1   4MBS  Surface view of CCR5 bound to maraviroc (PDB 4...   \n",
       "1   2   3OE0  Cartoon view of CXCR4 with antagonist IT1t (PD...   \n",
       "2   3   1GC1  Surface view of HIV-1 gp120 bound to CD4 (PDB ...   \n",
       "\n",
       "                           image_path   view  \n",
       "0  data/images/4MBS_front_surface.png  front  \n",
       "1   data/images/3OE0_side_cartoon.png   side  \n",
       "2    data/images/1GC1_top_surface.png    top  "
      ]
     },
     "metadata": {},
     "output_type": "display_data"
    },
    {
     "name": "stdout",
     "output_type": "stream",
     "text": [
      "Rows: 3\n"
     ]
    },
    {
     "data": {
      "image/png": "[encoded data removed]",
      "text/plain": [
       "<Figure size 640x480 with 1 Axes>"
      ]
     },
     "metadata": {},
     "output_type": "display_data"
    }
   ],
   "source": [
    "# Preview pairs.csv and make a tiny plot\n",
    "import pandas as pd\n",
    "import matplotlib.pyplot as plt\n",
    "df = pd.read_csv(\"data/pairs.csv\")\n",
    "display(df.head())\n",
    "print(\"Rows:\", len(df))\n",
    "\n",
    "# simple count by view\n",
    "counts = df[\"view\"].value_counts()\n",
    "plt.figure()\n",
    "counts.plot(kind=\"bar\")  # matplotlib will handle default style; no seaborn\n",
    "plt.title(\"Counts by view\")\n",
    "plt.xlabel(\"view\")\n",
    "plt.ylabel(\"count\")\n",
    "plt.show()\n"
   ]
  },
  {
   "cell_type": "code",
   "execution_count": null,
   "id": "dee69448-307b-4731-b2ce-5dad050d38c7",
   "metadata": {},
   "outputs": [],
   "source": []
  }
 ],
 "metadata": {
  "kernelspec": {
   "display_name": "Python [conda env:base] *",
   "language": "python",
   "name": "conda-base-py"
  },
  "language_info": {
   "codemirror_mode": {
    "name": "ipython",
    "version": 3
   },
   "file_extension": ".py",
   "mimetype": "text/x-python",
   "name": "python",
   "nbconvert_exporter": "python",
   "pygments_lexer": "ipython3",
   "version": "3.12.7"
  }
 },
 "nbformat": 4,
 "nbformat_minor": 5
}
