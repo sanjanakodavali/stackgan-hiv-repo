{
 "cells": [
  {
   "cell_type": "markdown",
   "id": "e9dcad56",
   "metadata": {},
   "source": [
    "# Run: `pdb_fetch_render.py`\n",
    "\n",
    "This notebook executes `scripts/pdb_fetch_render.py` to generate a placeholder `data/pdb_meta.jsonl`. If the script isn't present, it creates a minimal JSONL file instead. Then it previews the file."
   ]
  },
  {
   "cell_type": "code",
   "execution_count": 2,
   "id": "a5867232",
   "metadata": {},
   "outputs": [
    {
     "name": "stdout",
     "output_type": "stream",
     "text": [
      "meta exists: True size: 285 bytes\n"
     ]
    }
   ],
   "source": [
    "# Ensure folders\n",
    "from pathlib import Path\n",
    "Path(\"data\").mkdir(parents=True, exist_ok=True)\n",
    "Path(\"data/images\").mkdir(parents=True, exist_ok=True)\n",
    "\n",
    "import subprocess, json\n",
    "\n",
    "def try_run(cmd):\n",
    "    try:\n",
    "        print(\">>\", cmd)\n",
    "        subprocess.check_call(cmd, shell=True)\n",
    "        print(\"   ✓ OK\")\n",
    "        return True\n",
    "    except Exception as e:\n",
    "        print(\"   (skipping) —\", e)\n",
    "        return False\n",
    "\n",
    "ran = False\n",
    "if Path(\"scripts/pdb_fetch_render.py\").exists():\n",
    "    ran = try_run(\"python scripts/pdb_fetch_render.py\")\n",
    "\n",
    "# If the script didn't run, create a tiny placeholder pdb_meta.jsonl\n",
    "meta_path = Path(\"data/pdb_meta.jsonl\")\n",
    "if not meta_path.exists():\n",
    "    print(\"Creating placeholder:\", meta_path)\n",
    "    rows = [\n",
    "        {\"pdb_id\":\"4MBS\",\"protein\":\"CCR5\",\"ligand\":\"maraviroc\",\"view\":\"front\",\"style\":\"surface\"},\n",
    "        {\"pdb_id\":\"3OE0\",\"protein\":\"CXCR4\",\"ligand\":\"IT1t\",\"view\":\"side\",\"style\":\"cartoon\"},\n",
    "        {\"pdb_id\":\"1GC1\",\"protein\":\"gp120:CD4\",\"ligand\":None,\"view\":\"top\",\"style\":\"surface\"},\n",
    "    ]\n",
    "    with meta_path.open(\"w\") as f:\n",
    "        for r in rows:\n",
    "            f.write(json.dumps(r)+\"\\n\")\n",
    "\n",
    "print(\"meta exists:\", meta_path.exists(), \"size:\", meta_path.stat().st_size, \"bytes\")\n"
   ]
  },
  {
   "cell_type": "code",
   "execution_count": 4,
   "id": "27e9aa73",
   "metadata": {},
   "outputs": [
    {
     "data": {
      "text/html": [
       "<div>\n",
       "<style scoped>\n",
       "    .dataframe tbody tr th:only-of-type {\n",
       "        vertical-align: middle;\n",
       "    }\n",
       "\n",
       "    .dataframe tbody tr th {\n",
       "        vertical-align: top;\n",
       "    }\n",
       "\n",
       "    .dataframe thead th {\n",
       "        text-align: right;\n",
       "    }\n",
       "</style>\n",
       "<table border=\"1\" class=\"dataframe\">\n",
       "  <thead>\n",
       "    <tr style=\"text-align: right;\">\n",
       "      <th></th>\n",
       "      <th>pdb_id</th>\n",
       "      <th>protein</th>\n",
       "      <th>ligand</th>\n",
       "      <th>view</th>\n",
       "      <th>style</th>\n",
       "    </tr>\n",
       "  </thead>\n",
       "  <tbody>\n",
       "    <tr>\n",
       "      <th>0</th>\n",
       "      <td>4MBS</td>\n",
       "      <td>CCR5</td>\n",
       "      <td>maraviroc</td>\n",
       "      <td>front</td>\n",
       "      <td>surface</td>\n",
       "    </tr>\n",
       "    <tr>\n",
       "      <th>1</th>\n",
       "      <td>3OE0</td>\n",
       "      <td>CXCR4</td>\n",
       "      <td>IT1t</td>\n",
       "      <td>side</td>\n",
       "      <td>cartoon</td>\n",
       "    </tr>\n",
       "    <tr>\n",
       "      <th>2</th>\n",
       "      <td>1GC1</td>\n",
       "      <td>gp120:CD4</td>\n",
       "      <td>None</td>\n",
       "      <td>top</td>\n",
       "      <td>surface</td>\n",
       "    </tr>\n",
       "  </tbody>\n",
       "</table>\n",
       "</div>"
      ],
      "text/plain": [
       "  pdb_id    protein     ligand   view    style\n",
       "0   4MBS       CCR5  maraviroc  front  surface\n",
       "1   3OE0      CXCR4       IT1t   side  cartoon\n",
       "2   1GC1  gp120:CD4       None    top  surface"
      ]
     },
     "metadata": {},
     "output_type": "display_data"
    },
    {
     "name": "stdout",
     "output_type": "stream",
     "text": [
      "Rows: 3\n"
     ]
    }
   ],
   "source": [
    "# Preview the JSONL as a dataframe\n",
    "import pandas as pd, json\n",
    "from pathlib import Path\n",
    "\n",
    "meta_path = Path(\"data/pdb_meta.jsonl\")\n",
    "rows = []\n",
    "with meta_path.open() as f:\n",
    "    for line in f:\n",
    "        rows.append(json.loads(line))\n",
    "df = pd.DataFrame(rows)\n",
    "display(df.head())\n",
    "print(\"Rows:\", len(df))\n"
   ]
  },
  {
   "cell_type": "code",
   "execution_count": null,
   "id": "925d2ea4-11fe-4c8c-bc75-6e1a1caf5fc2",
   "metadata": {},
   "outputs": [],
   "source": []
  },
  {
   "cell_type": "code",
   "execution_count": null,
   "id": "0ddd4618-9e8b-4a7a-8fa7-a09789317f33",
   "metadata": {},
   "outputs": [],
   "source": []
  }
 ],
 "metadata": {
  "kernelspec": {
   "display_name": "Python [conda env:base] *",
   "language": "python",
   "name": "conda-base-py"
  },
  "language_info": {
   "codemirror_mode": {
    "name": "ipython",
    "version": 3
   },
   "file_extension": ".py",
   "mimetype": "text/x-python",
   "name": "python",
   "nbconvert_exporter": "python",
   "pygments_lexer": "ipython3",
   "version": "3.12.7"
  }
 },
 "nbformat": 4,
 "nbformat_minor": 5
}
