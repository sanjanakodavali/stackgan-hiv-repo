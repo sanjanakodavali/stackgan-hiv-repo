{
 "cells": [
  {
   "cell_type": "markdown",
   "id": "6ed6a29c",
   "metadata": {},
   "source": [
    "# Setup & Environment Check\n",
    "\n",
    "This notebook verifies the environment and shows a tiny EDA preview."
   ]
  },
  {
   "cell_type": "markdown",
   "id": "da5fad4f",
   "metadata": {},
   "source": [
    "## Create tiny dataset artifacts (collection step)\n",
    "This cell tries to run the repo scripts; if they don't exist, it writes a minimal placeholder `data/pairs.csv`."
   ]
  },
  {
   "cell_type": "code",
   "execution_count": null,
   "id": "3642ea87-53ac-42ee-822c-3535bdd3d46e",
   "metadata": {},
   "outputs": [],
   "source": []
  },
  {
   "cell_type": "code",
   "execution_count": 3,
   "id": "57e85008",
   "metadata": {},
   "outputs": [
    {
     "name": "stdout",
     "output_type": "stream",
     "text": [
      "pairs.csv not found — creating a tiny placeholder file...\n",
      "Created: data/pairs.csv\n"
     ]
    }
   ],
   "source": [
    "from pathlib import Path\n",
    "import os, csv, json, subprocess\n",
    "\n",
    "# Ensure data directories exist\n",
    "Path(\"data\").mkdir(parents=True, exist_ok=True)\n",
    "Path(\"data/images\").mkdir(parents=True, exist_ok=True)\n",
    "\n",
    "def try_run(cmd):\n",
    "    try:\n",
    "        print(\">>\", cmd)\n",
    "        subprocess.check_call(cmd, shell=True)\n",
    "        print(\"   ✓ OK\")\n",
    "        return True\n",
    "    except Exception as e:\n",
    "        print(\"   (skipping) —\", e)\n",
    "        return False\n",
    "\n",
    "ran_any = False\n",
    "if Path(\"scripts/pdb_fetch_render.py\").exists():\n",
    "    ran_any = try_run(\"python scripts/pdb_fetch_render.py\") or ran_any\n",
    "if Path(\"scripts/build_captions.py\").exists():\n",
    "    ran_any = try_run(\"python scripts/build_captions.py\") or ran_any\n",
    "\n",
    "pairs_path = Path(\"data/pairs.csv\")\n",
    "if not pairs_path.exists():\n",
    "    print(\"pairs.csv not found — creating a tiny placeholder file...\")\n",
    "    rows = [\n",
    "        {\"id\":\"000001\",\"pdb_id\":\"4MBS\",\"caption\":\"Surface view of CCR5 bound to maraviroc (PDB 4MBS); front orientation.\",\"image_path\":\"data/images/4MBS_front_surface.png\",\"view\":\"front\"},\n",
    "        {\"id\":\"000002\",\"pdb_id\":\"3OE0\",\"caption\":\"Cartoon view of CXCR4 with antagonist IT1t (PDB 3OE0); side orientation.\",\"image_path\":\"data/images/3OE0_side_cartoon.png\",\"view\":\"side\"},\n",
    "        {\"id\":\"000003\",\"pdb_id\":\"1GC1\",\"caption\":\"Surface view of HIV-1 gp120 bound to CD4 (PDB 1GC1); top orientation.\",\"image_path\":\"data/images/1GC1_top_surface.png\",\"view\":\"top\"},\n",
    "    ]\n",
    "    with pairs_path.open(\"w\", newline=\"\") as f:\n",
    "        w = csv.DictWriter(f, fieldnames=[\"id\",\"pdb_id\",\"caption\",\"image_path\",\"view\"])\n",
    "        w.writeheader()\n",
    "        w.writerows(rows)\n",
    "    print(\"Created:\", pairs_path)\n",
    "else:\n",
    "    print(\"Found existing:\", pairs_path)    \n"
   ]
  },
  {
   "cell_type": "markdown",
   "id": "54c3bd54",
   "metadata": {},
   "source": [
    "## Environment check"
   ]
  },
  {
   "cell_type": "code",
   "execution_count": null,
   "id": "02fdeaed",
   "metadata": {},
   "outputs": [],
   "source": [
    "import sys, torch, transformers, numpy as np, pandas as pd, matplotlib\n",
    "print('Python', sys.version)\n",
    "print('Torch', torch.__version__)\n",
    "print('Transformers', transformers.__version__)\n"
   ]
  },
  {
   "cell_type": "markdown",
   "id": "701196d1",
   "metadata": {},
   "source": [
    "## Sample plot"
   ]
  },
  {
   "cell_type": "code",
   "execution_count": null,
   "id": "261290f7",
   "metadata": {},
   "outputs": [],
   "source": [
    "import matplotlib.pyplot as plt\n",
    "plt.figure()\n",
    "plt.plot([0,1,2],[0,1,0])\n",
    "plt.title('Environment OK — Sample Plot')\n",
    "plt.show()\n"
   ]
  },
  {
   "cell_type": "markdown",
   "id": "3a921925",
   "metadata": {},
   "source": [
    "## Example PDB IDs (HIV-related)\n",
    "We will render these in future milestones."
   ]
  },
  {
   "cell_type": "code",
   "execution_count": null,
   "id": "82283e14",
   "metadata": {},
   "outputs": [],
   "source": [
    "pdb_ids = ['4MBS','3OE0','1GC1']\n",
    "pdb_ids\n"
   ]
  },
  {
   "cell_type": "markdown",
   "id": "d7a8e44d",
   "metadata": {},
   "source": [
    "## Early EDA: load `data/pairs.csv`"
   ]
  },
  {
   "cell_type": "code",
   "execution_count": null,
   "id": "0ac76067",
   "metadata": {},
   "outputs": [],
   "source": [
    "import pandas as pd\n",
    "df = pd.read_csv(\"data/pairs.csv\")\n",
    "display(df.head())\n",
    "print(\"Rows:\", len(df))\n"
   ]
  }
 ],
 "metadata": {
  "kernelspec": {
   "display_name": "Python [conda env:base] *",
   "language": "python",
   "name": "conda-base-py"
  },
  "language_info": {
   "codemirror_mode": {
    "name": "ipython",
    "version": 3
   },
   "file_extension": ".py",
   "mimetype": "text/x-python",
   "name": "python",
   "nbconvert_exporter": "python",
   "pygments_lexer": "ipython3",
   "version": "3.12.7"
  }
 },
 "nbformat": 4,
 "nbformat_minor": 5
}
